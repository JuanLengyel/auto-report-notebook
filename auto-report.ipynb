{
 "cells": [
  {
   "cell_type": "code",
   "execution_count": null,
   "metadata": {},
   "outputs": [],
   "source": [
    "%matplotlib inline\n",
    "\n",
    "# Tools for capturing filtering and analyzing data\n",
    "import pandas as pd\n",
    "import numpy as np\n",
    "\n",
    "# Import widgets to add interactivity\n",
    "from ipywidgets import interact_manual, interact, fixed, interactive_output\n",
    "import ipywidgets as widgets\n",
    "from IPython.display import display"
   ]
  },
  {
   "cell_type": "markdown",
   "metadata": {},
   "source": [
    "# Interactive Report Generator"
   ]
  },
  {
   "cell_type": "markdown",
   "metadata": {},
   "source": [
    "## Report parameters\n",
    "\n",
    "Fill the following values so that reports can be generated:"
   ]
  },
  {
   "cell_type": "code",
   "execution_count": null,
   "metadata": {},
   "outputs": [],
   "source": [
    "import os\n",
    "\n",
    "list_of_reports = os.listdir('datasets')\n",
    "list_of_reports = list(filter(lambda file: file.endswith('.csv'), list_of_reports))"
   ]
  },
  {
   "cell_type": "code",
   "execution_count": null,
   "metadata": {},
   "outputs": [],
   "source": [
    "reportFileName = widgets.Combobox(\n",
    "    value=\"ToProcess.csv\",\n",
    "    placeholder='Choose Report',\n",
    "    options=list_of_reports,\n",
    "    description='Report:',\n",
    "    ensure_option=True,\n",
    "    disabled=False\n",
    ")\n",
    "numberOfRowsToSkip = widgets.IntText(\n",
    "    value=0,\n",
    "    description='Number of rows to skip:',\n",
    "    disabled=False\n",
    ")\n",
    "dateColumnName = widgets.Text(\n",
    "    value='Time',\n",
    "    description='Date column',\n",
    "    disabled=False\n",
    ")\n",
    "nodeColumnName = widgets.Text(\n",
    "    value='Huawei_eUtranCell',\n",
    "    description='Node name column',\n",
    "    disabled=False\n",
    ")"
   ]
  },
  {
   "cell_type": "code",
   "execution_count": null,
   "metadata": {},
   "outputs": [],
   "source": [
    "# Get report related scripts\n",
    "import scripts.report_util as r_util\n",
    "\n",
    "def preprocess_report_data(report, dateColumnName, nodeColumnName):\n",
    "    report[dateColumnName] = r_util.convert_plain_to_datetime(report[dateColumnName], '%Y-%m-%d %H:%M:%S')\n",
    "    report = r_util.get_max_per_day(report, nodeColumnName, dateColumnName)\n",
    "    \n",
    "    return report\n",
    "\n",
    "def process_report(reportFileName, numberOfRowsToSkip, dateColumnName, nodeColumnName):\n",
    "    report = r_util.read_report(reportFileName, numberOfRowsToSkip)\n",
    "    report = preprocess_report_data(report, dateColumnName, nodeColumnName)\n",
    "    report = r_util.get_pivot_table_per_kpi(report, dateColumnName, nodeColumnName)\n",
    "    \n",
    "    return report\n",
    "\n",
    "def get_reports_per_kpi_per_node(pivot_table, nodeForReport, kpiForReport, surpassLimit, underpassLimit):\n",
    "    current_report_kpi_node = pivot_table[kpiForReport].loc[pivot_table.index == nodeForReport]\n",
    "    grouped_report = r_util.group_by_week(current_report_kpi_node)\n",
    "    \n",
    "    mean_week = r_util.get_mean_per_week_report(grouped_report)\n",
    "    \n",
    "    surpass_report = r_util.get_times_in_week_day_surpassed_last_week_mean_report(grouped_report, surpassLimit)\n",
    "    underpass_report = r_util.get_times_in_week_day_below_last_week_mean_report(grouped_report, underpassLimit)\n",
    "    \n",
    "    r_util.get_plot_per_node_with_mean(current_report_kpi_node)\n",
    "    \n",
    "    \n",
    "    return current_report_kpi_node, mean_week, surpass_report, underpass_report\n",
    "    #return current_report_kpi_node"
   ]
  },
  {
   "cell_type": "code",
   "execution_count": null,
   "metadata": {},
   "outputs": [],
   "source": [
    "w = interact(process_report, reportFileName=reportFileName, numberOfRowsToSkip=numberOfRowsToSkip, dateColumnName=dateColumnName, nodeColumnName=nodeColumnName).widget"
   ]
  },
  {
   "cell_type": "code",
   "execution_count": null,
   "metadata": {},
   "outputs": [],
   "source": [
    "nodeForReport = widgets.Combobox(\n",
    "    value=list(w.result.index)[0],\n",
    "    options = list(w.result.index),\n",
    "    description='Node:',\n",
    "    ensure_option=True,\n",
    "    disabled=False\n",
    ")\n",
    "kpis = list(r_util.get_kpi_names_from_pivot_table(w.result))\n",
    "kpiForReport = widgets.Combobox(\n",
    "    value=kpis[0],\n",
    "    options = kpis,\n",
    "    description='KPI:',\n",
    "    ensure_option=True,\n",
    "    disabled=False\n",
    ")\n",
    "surpassLimit = (0.0, 2.0, 0.1)\n",
    "underpassLimit = (0.0, 2.0, 0.1)\n",
    "\n",
    "s = interact(get_reports_per_kpi_per_node, pivot_table=fixed(w.result), nodeForReport=nodeForReport, kpiForReport=kpiForReport, surpassLimit=surpassLimit, underpassLimit=underpassLimit)\n"
   ]
  },
  {
   "cell_type": "code",
   "execution_count": null,
   "metadata": {},
   "outputs": [],
   "source": []
  },
  {
   "cell_type": "code",
   "execution_count": null,
   "metadata": {},
   "outputs": [],
   "source": []
  }
 ],
 "metadata": {
  "jupytext": {
   "formats": "ipynb,md"
  },
  "kernelspec": {
   "display_name": "Python 3",
   "language": "python",
   "name": "python3"
  },
  "language_info": {
   "codemirror_mode": {
    "name": "ipython",
    "version": 3
   },
   "file_extension": ".py",
   "mimetype": "text/x-python",
   "name": "python",
   "nbconvert_exporter": "python",
   "pygments_lexer": "ipython3",
   "version": "3.7.7"
  }
 },
 "nbformat": 4,
 "nbformat_minor": 4
}
